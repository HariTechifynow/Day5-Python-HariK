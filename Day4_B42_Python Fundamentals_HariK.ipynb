{
 "cells": [
  {
   "cell_type": "code",
   "execution_count": 1,
   "metadata": {},
   "outputs": [],
   "source": [
    "## Inroduction to list Datatype"
   ]
  },
  {
   "cell_type": "code",
   "execution_count": 2,
   "metadata": {},
   "outputs": [],
   "source": [
    "###A list is a Collection of items defined in a particular order.\n",
    "\n",
    "#Classification: Mutable Datatype\n",
    "\n",
    "# Define list-Use Square Brackets"
   ]
  },
  {
   "cell_type": "code",
   "execution_count": 3,
   "metadata": {},
   "outputs": [
    {
     "name": "stdout",
     "output_type": "stream",
     "text": [
      "['Hari', 'RAMA', 'Vishnu', 'Anand', 'Kiran']\n"
     ]
    }
   ],
   "source": [
    "Friends = [\"Hari\", \"RAMA\", \"Vishnu\", \"Anand\", \"Kiran\"]\n",
    "\n",
    "print(Friends)"
   ]
  },
  {
   "cell_type": "code",
   "execution_count": 5,
   "metadata": {},
   "outputs": [],
   "source": [
    "## How to access the values from the above list \n",
    "## Req: I want to get (Anand) from the Above list.\n",
    "\n",
    "#Introduction to Indexing-0,1,2,3,4,5.\n",
    "\n"
   ]
  },
  {
   "cell_type": "code",
   "execution_count": 6,
   "metadata": {},
   "outputs": [
    {
     "name": "stdout",
     "output_type": "stream",
     "text": [
      "Anand\n"
     ]
    }
   ],
   "source": [
    "print(Friends[3])"
   ]
  },
  {
   "cell_type": "code",
   "execution_count": 7,
   "metadata": {},
   "outputs": [
    {
     "name": "stdout",
     "output_type": "stream",
     "text": [
      "RAMA\n"
     ]
    }
   ],
   "source": [
    "print(Friends[1])"
   ]
  },
  {
   "cell_type": "code",
   "execution_count": 8,
   "metadata": {},
   "outputs": [],
   "source": [
    "# How to add elements to the list\n",
    "# How to modify elements in the list\n",
    "# How to delete elements in list."
   ]
  },
  {
   "cell_type": "code",
   "execution_count": 3,
   "metadata": {},
   "outputs": [
    {
     "name": "stdout",
     "output_type": "stream",
     "text": [
      "['Hari', 'RAMA', 'Vishnu', 'Anand', 'Kiran']\n"
     ]
    }
   ],
   "source": [
    "Friends = [\"Hari\", \"RAMA\", \"Vishnu\", \"Anand\", \"Kiran\"]\n",
    "\n",
    "print(Friends)"
   ]
  },
  {
   "cell_type": "code",
   "execution_count": 4,
   "metadata": {},
   "outputs": [
    {
     "name": "stdout",
     "output_type": "stream",
     "text": [
      "['Hari', 'RAMA', 'Vishnu', 'Anand', 'Kiran', 'Eshwar']\n"
     ]
    }
   ],
   "source": [
    "Friends.append(\"Eshwar\")\n",
    "\n",
    "print(Friends)"
   ]
  },
  {
   "cell_type": "code",
   "execution_count": 5,
   "metadata": {},
   "outputs": [
    {
     "name": "stdout",
     "output_type": "stream",
     "text": [
      "['Hari', 'RAMA', 'SiriKrishna', 'Vishnu', 'Anand', 'Kiran', 'Eshwar']\n"
     ]
    }
   ],
   "source": [
    "Friends.insert(2,\"SiriKrishna\")\n",
    "\n",
    "print(Friends)"
   ]
  },
  {
   "cell_type": "code",
   "execution_count": 8,
   "metadata": {},
   "outputs": [
    {
     "name": "stdout",
     "output_type": "stream",
     "text": [
      "['Hari', 'RAMA', 'SiriKrishna', 'Vishnu', 'Anand', 'Kiran', 'Eshwar', 'ArunKumar']\n"
     ]
    }
   ],
   "source": [
    "Friends.insert(7,\"ArunKumar\")\n",
    "\n",
    "print(Friends)"
   ]
  },
  {
   "cell_type": "code",
   "execution_count": 9,
   "metadata": {},
   "outputs": [
    {
     "name": "stdout",
     "output_type": "stream",
     "text": [
      "['Hari', 'RAMA', 'SiriKrishna', 'Vishnu', 'Anand', 'Kiran', 'Eshwar', 'Sathish Sir']\n"
     ]
    }
   ],
   "source": [
    "## How to replace one name with another\n",
    "\n",
    "Friends[7] = \"Sathish Sir\"\n",
    "\n",
    "print(Friends)"
   ]
  },
  {
   "cell_type": "code",
   "execution_count": 10,
   "metadata": {},
   "outputs": [],
   "source": [
    "## POP:Temporary Removal\n",
    "\n",
    "## It will be Creating carbon copy of the deleting items and it will be saved in the variables thatbwiil be assained.\n",
    "\n",
    "## Note: BY Default pop will be deleting items to the last of the list.\n"
   ]
  },
  {
   "cell_type": "code",
   "execution_count": 11,
   "metadata": {},
   "outputs": [
    {
     "name": "stdout",
     "output_type": "stream",
     "text": [
      "['Hari', 'RAMA', 'SiriKrishna', 'Vishnu', 'Anand', 'Kiran', 'Eshwar', 'Sathish Sir']\n"
     ]
    }
   ],
   "source": [
    "print(Friends)"
   ]
  },
  {
   "cell_type": "code",
   "execution_count": 12,
   "metadata": {},
   "outputs": [
    {
     "name": "stdout",
     "output_type": "stream",
     "text": [
      "['Hari', 'RAMA', 'SiriKrishna', 'Vishnu', 'Anand', 'Kiran', 'Eshwar']\n"
     ]
    }
   ],
   "source": [
    "X = Friends.pop()\n",
    "\n",
    "print(Friends)"
   ]
  },
  {
   "cell_type": "code",
   "execution_count": 13,
   "metadata": {},
   "outputs": [
    {
     "name": "stdout",
     "output_type": "stream",
     "text": [
      "Sathish Sir\n"
     ]
    }
   ],
   "source": [
    "print(X)"
   ]
  },
  {
   "cell_type": "code",
   "execution_count": 14,
   "metadata": {},
   "outputs": [
    {
     "name": "stdout",
     "output_type": "stream",
     "text": [
      "SiriKrishna\n"
     ]
    }
   ],
   "source": [
    "y = Friends.pop(2)\n",
    "\n",
    "print(y)\n"
   ]
  },
  {
   "cell_type": "code",
   "execution_count": null,
   "metadata": {},
   "outputs": [],
   "source": []
  }
 ],
 "metadata": {
  "kernelspec": {
   "display_name": "Python 3",
   "language": "python",
   "name": "python3"
  },
  "language_info": {
   "codemirror_mode": {
    "name": "ipython",
    "version": 3
   },
   "file_extension": ".py",
   "mimetype": "text/x-python",
   "name": "python",
   "nbconvert_exporter": "python",
   "pygments_lexer": "ipython3",
   "version": "3.8.5"
  }
 },
 "nbformat": 4,
 "nbformat_minor": 4
}
